{
 "cells": [
  {
   "cell_type": "code",
   "execution_count": 1,
   "metadata": {},
   "outputs": [],
   "source": [
    "import numpy as np\n",
    "import pandas as pd\n",
    "import matplotlib.pyplot as plt\n",
    "import seaborn as sns"
   ]
  },
  {
   "cell_type": "code",
   "execution_count": 2,
   "metadata": {},
   "outputs": [],
   "source": [
    "data=pd.read_excel(\"Pest Count and weather data _North Zone.xlsx\")"
   ]
  },
  {
   "cell_type": "code",
   "execution_count": 3,
   "metadata": {},
   "outputs": [],
   "source": [
    "data.rename(columns=data.iloc[1],inplace=True)"
   ]
  },
  {
   "cell_type": "code",
   "execution_count": 4,
   "metadata": {},
   "outputs": [],
   "source": [
    "data.drop([0,1],axis=0,inplace=True)"
   ]
  },
  {
   "cell_type": "code",
   "execution_count": 10,
   "metadata": {},
   "outputs": [],
   "source": [
    "data = data.rename(columns={'Location ':'Location','Week ': 'Week'})"
   ]
  },
  {
   "cell_type": "markdown",
   "metadata": {},
   "source": [
    "# with the help of year and month column , we made a new column \"Date\" using datetime library"
   ]
  },
  {
   "cell_type": "code",
   "execution_count": 11,
   "metadata": {},
   "outputs": [],
   "source": [
    "data['Date']=pd.to_datetime([f'{y}-{m}-01' for y, m in zip(data.Year, data.Month)])\n"
   ]
  },
  {
   "cell_type": "code",
   "execution_count": 12,
   "metadata": {},
   "outputs": [
    {
     "data": {
      "text/html": [
       "<div>\n",
       "<style scoped>\n",
       "    .dataframe tbody tr th:only-of-type {\n",
       "        vertical-align: middle;\n",
       "    }\n",
       "\n",
       "    .dataframe tbody tr th {\n",
       "        vertical-align: top;\n",
       "    }\n",
       "\n",
       "    .dataframe thead th {\n",
       "        text-align: right;\n",
       "    }\n",
       "</style>\n",
       "<table border=\"1\" class=\"dataframe\">\n",
       "  <thead>\n",
       "    <tr style=\"text-align: right;\">\n",
       "      <th></th>\n",
       "      <th>Location</th>\n",
       "      <th>Year</th>\n",
       "      <th>Week</th>\n",
       "      <th>Month</th>\n",
       "      <th>Tmin</th>\n",
       "      <th>Tmax</th>\n",
       "      <th>Tavg</th>\n",
       "      <th>Rhmin</th>\n",
       "      <th>RHmax</th>\n",
       "      <th>RH avg</th>\n",
       "      <th>RF</th>\n",
       "      <th>Pest Count (Dependent Variable)</th>\n",
       "      <th>Date</th>\n",
       "    </tr>\n",
       "  </thead>\n",
       "  <tbody>\n",
       "    <tr>\n",
       "      <th>2</th>\n",
       "      <td>Faridkot</td>\n",
       "      <td>2010</td>\n",
       "      <td>22</td>\n",
       "      <td>May</td>\n",
       "      <td>31.9</td>\n",
       "      <td>35</td>\n",
       "      <td>34</td>\n",
       "      <td>34.3</td>\n",
       "      <td>56</td>\n",
       "      <td>45.2</td>\n",
       "      <td>1.1</td>\n",
       "      <td>0.1</td>\n",
       "      <td>2010-05-01</td>\n",
       "    </tr>\n",
       "    <tr>\n",
       "      <th>3</th>\n",
       "      <td>Faridkot</td>\n",
       "      <td>2010</td>\n",
       "      <td>23</td>\n",
       "      <td>June</td>\n",
       "      <td>28.1</td>\n",
       "      <td>36</td>\n",
       "      <td>32</td>\n",
       "      <td>27.9</td>\n",
       "      <td>55</td>\n",
       "      <td>41.3</td>\n",
       "      <td>0</td>\n",
       "      <td>1.1</td>\n",
       "      <td>2010-06-01</td>\n",
       "    </tr>\n",
       "    <tr>\n",
       "      <th>4</th>\n",
       "      <td>Faridkot</td>\n",
       "      <td>2010</td>\n",
       "      <td>24</td>\n",
       "      <td>June</td>\n",
       "      <td>31.2</td>\n",
       "      <td>40</td>\n",
       "      <td>36</td>\n",
       "      <td>21.9</td>\n",
       "      <td>48</td>\n",
       "      <td>34.8</td>\n",
       "      <td>0</td>\n",
       "      <td>2.7</td>\n",
       "      <td>2010-06-01</td>\n",
       "    </tr>\n",
       "    <tr>\n",
       "      <th>5</th>\n",
       "      <td>Faridkot</td>\n",
       "      <td>2010</td>\n",
       "      <td>25</td>\n",
       "      <td>June</td>\n",
       "      <td>29.9</td>\n",
       "      <td>37</td>\n",
       "      <td>34</td>\n",
       "      <td>40.6</td>\n",
       "      <td>68</td>\n",
       "      <td>54.2</td>\n",
       "      <td>3</td>\n",
       "      <td>7.4</td>\n",
       "      <td>2010-06-01</td>\n",
       "    </tr>\n",
       "    <tr>\n",
       "      <th>6</th>\n",
       "      <td>Faridkot</td>\n",
       "      <td>2010</td>\n",
       "      <td>26</td>\n",
       "      <td>June</td>\n",
       "      <td>28.9</td>\n",
       "      <td>32</td>\n",
       "      <td>30</td>\n",
       "      <td>65.3</td>\n",
       "      <td>72</td>\n",
       "      <td>68.6</td>\n",
       "      <td>3.4</td>\n",
       "      <td>12.9</td>\n",
       "      <td>2010-06-01</td>\n",
       "    </tr>\n",
       "    <tr>\n",
       "      <th>...</th>\n",
       "      <td>...</td>\n",
       "      <td>...</td>\n",
       "      <td>...</td>\n",
       "      <td>...</td>\n",
       "      <td>...</td>\n",
       "      <td>...</td>\n",
       "      <td>...</td>\n",
       "      <td>...</td>\n",
       "      <td>...</td>\n",
       "      <td>...</td>\n",
       "      <td>...</td>\n",
       "      <td>...</td>\n",
       "      <td>...</td>\n",
       "    </tr>\n",
       "    <tr>\n",
       "      <th>367</th>\n",
       "      <td>Hisar</td>\n",
       "      <td>2016</td>\n",
       "      <td>36</td>\n",
       "      <td>August</td>\n",
       "      <td>23.5</td>\n",
       "      <td>34.6</td>\n",
       "      <td>29.05</td>\n",
       "      <td>58</td>\n",
       "      <td>86</td>\n",
       "      <td>72</td>\n",
       "      <td>NaN</td>\n",
       "      <td>34.1</td>\n",
       "      <td>2016-08-01</td>\n",
       "    </tr>\n",
       "    <tr>\n",
       "      <th>368</th>\n",
       "      <td>Hisar</td>\n",
       "      <td>2016</td>\n",
       "      <td>37</td>\n",
       "      <td>September</td>\n",
       "      <td>23.6</td>\n",
       "      <td>35.7</td>\n",
       "      <td>29.65</td>\n",
       "      <td>52</td>\n",
       "      <td>85</td>\n",
       "      <td>68.5</td>\n",
       "      <td>NaN</td>\n",
       "      <td>36.2</td>\n",
       "      <td>2016-09-01</td>\n",
       "    </tr>\n",
       "    <tr>\n",
       "      <th>369</th>\n",
       "      <td>Hisar</td>\n",
       "      <td>2016</td>\n",
       "      <td>38</td>\n",
       "      <td>September</td>\n",
       "      <td>25.1</td>\n",
       "      <td>36</td>\n",
       "      <td>30.55</td>\n",
       "      <td>54</td>\n",
       "      <td>87</td>\n",
       "      <td>70.5</td>\n",
       "      <td>NaN</td>\n",
       "      <td>19.8</td>\n",
       "      <td>2016-09-01</td>\n",
       "    </tr>\n",
       "    <tr>\n",
       "      <th>370</th>\n",
       "      <td>Hisar</td>\n",
       "      <td>2016</td>\n",
       "      <td>39</td>\n",
       "      <td>September</td>\n",
       "      <td>24.4</td>\n",
       "      <td>35.4</td>\n",
       "      <td>29.9</td>\n",
       "      <td>49</td>\n",
       "      <td>85</td>\n",
       "      <td>67</td>\n",
       "      <td>NaN</td>\n",
       "      <td>14</td>\n",
       "      <td>2016-09-01</td>\n",
       "    </tr>\n",
       "    <tr>\n",
       "      <th>371</th>\n",
       "      <td>Hisar</td>\n",
       "      <td>2016</td>\n",
       "      <td>40</td>\n",
       "      <td>September</td>\n",
       "      <td>24.5</td>\n",
       "      <td>35</td>\n",
       "      <td>29.75</td>\n",
       "      <td>56</td>\n",
       "      <td>91</td>\n",
       "      <td>73.5</td>\n",
       "      <td>NaN</td>\n",
       "      <td>21.9</td>\n",
       "      <td>2016-09-01</td>\n",
       "    </tr>\n",
       "  </tbody>\n",
       "</table>\n",
       "<p>370 rows × 13 columns</p>\n",
       "</div>"
      ],
      "text/plain": [
       "     Location  Year Week      Month  Tmin  Tmax   Tavg Rhmin RHmax RH avg  \\\n",
       "2    Faridkot  2010   22        May  31.9    35     34  34.3    56   45.2   \n",
       "3    Faridkot  2010   23       June  28.1    36     32  27.9    55   41.3   \n",
       "4    Faridkot  2010   24       June  31.2    40     36  21.9    48   34.8   \n",
       "5    Faridkot  2010   25       June  29.9    37     34  40.6    68   54.2   \n",
       "6    Faridkot  2010   26       June  28.9    32     30  65.3    72   68.6   \n",
       "..        ...   ...  ...        ...   ...   ...    ...   ...   ...    ...   \n",
       "367     Hisar  2016   36     August  23.5  34.6  29.05    58    86     72   \n",
       "368     Hisar  2016   37  September  23.6  35.7  29.65    52    85   68.5   \n",
       "369     Hisar  2016   38  September  25.1    36  30.55    54    87   70.5   \n",
       "370     Hisar  2016   39  September  24.4  35.4   29.9    49    85     67   \n",
       "371     Hisar  2016   40  September  24.5    35  29.75    56    91   73.5   \n",
       "\n",
       "      RF Pest Count (Dependent Variable)       Date  \n",
       "2    1.1                             0.1 2010-05-01  \n",
       "3      0                             1.1 2010-06-01  \n",
       "4      0                             2.7 2010-06-01  \n",
       "5      3                             7.4 2010-06-01  \n",
       "6    3.4                            12.9 2010-06-01  \n",
       "..   ...                             ...        ...  \n",
       "367  NaN                            34.1 2016-08-01  \n",
       "368  NaN                            36.2 2016-09-01  \n",
       "369  NaN                            19.8 2016-09-01  \n",
       "370  NaN                              14 2016-09-01  \n",
       "371  NaN                            21.9 2016-09-01  \n",
       "\n",
       "[370 rows x 13 columns]"
      ]
     },
     "execution_count": 12,
     "metadata": {},
     "output_type": "execute_result"
    }
   ],
   "source": [
    "data"
   ]
  },
  {
   "cell_type": "code",
   "execution_count": 13,
   "metadata": {},
   "outputs": [
    {
     "data": {
      "text/plain": [
       "<matplotlib.axes._subplots.AxesSubplot at 0x2128c5d5a90>"
      ]
     },
     "execution_count": 13,
     "metadata": {},
     "output_type": "execute_result"
    },
    {
     "data": {
      "image/png": "[encoded data removed]",
      "text/plain": [
       "<Figure size 1800x720 with 1 Axes>"
      ]
     },
     "metadata": {
      "needs_background": "light"
     },
     "output_type": "display_data"
    }
   ],
   "source": [
    "plt.figure(figsize=(25,10))\n",
    "sns.scatterplot(data=data, x=\"Date\", y=\"Pest Count (Dependent Variable)\", hue=\"Location\")"
   ]
  },
  {
   "cell_type": "markdown",
   "metadata": {},
   "source": [
    "# we made a chart with the help of date on x-axis,pest on y axis and all the data will be hues with the help of location. from the chart, we can clearly see the orange color have high pest count which is indicated Hisar"
   ]
  },
  {
   "cell_type": "code",
   "execution_count": null,
   "metadata": {},
   "outputs": [],
   "source": []
  }
 ],
 "metadata": {
  "kernelspec": {
   "display_name": "Python 3",
   "language": "python",
   "name": "python3"
  },
  "language_info": {
   "codemirror_mode": {
    "name": "ipython",
    "version": 3
   },
   "file_extension": ".py",
   "mimetype": "text/x-python",
   "name": "python",
   "nbconvert_exporter": "python",
   "pygments_lexer": "ipython3",
   "version": "3.8.3"
  }
 },
 "nbformat": 4,
 "nbformat_minor": 4
}
